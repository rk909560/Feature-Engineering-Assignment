{
 "cells": [
  {
   "cell_type": "code",
   "execution_count": null,
   "id": "3a4a2e96",
   "metadata": {},
   "outputs": [],
   "source": []
  },
  {
   "cell_type": "raw",
   "id": "2f7c1ffb",
   "metadata": {},
   "source": [
    "Ques1 : What is a parameter?\n",
    "\n",
    "A parameter is a number that describes something about the entire Population. or we can say like parameter is like population's fact. Its a fixed value and doesnt't changes untill population changes.\n",
    "\n",
    "Like :\n",
    "Average height of whole school students is 165cm. this  165cm is a parameter, coz it belongs to the whole population.\n",
    "Average income of all the people of INDIA."
   ]
  },
  {
   "cell_type": "code",
   "execution_count": null,
   "id": "4bf84408",
   "metadata": {},
   "outputs": [],
   "source": []
  },
  {
   "cell_type": "raw",
   "id": "039a8ffd",
   "metadata": {},
   "source": [
    "Ques2 : What is correlation?\n",
    "\n",
    "Correlation tells us the relationship between two variables. if they are co-relative or not, if yes then how positively or \n",
    "negatively or how strongly they are related.\n",
    "\n",
    "Example : If A increases B also incareases or decreases\n"
   ]
  },
  {
   "cell_type": "code",
   "execution_count": null,
   "id": "8666be34",
   "metadata": {},
   "outputs": [],
   "source": []
  },
  {
   "cell_type": "raw",
   "id": "fc6f08a7",
   "metadata": {},
   "source": [
    "Ques3 : What does negative correlation mean?\n",
    "Negative correlation means when one variable increases the other variable decreases. Both the variables moves in \n",
    "opposite direction\n",
    "\n",
    "Example Prize and demand: Prize increases demand decreases"
   ]
  },
  {
   "cell_type": "code",
   "execution_count": null,
   "id": "4067e1f0",
   "metadata": {},
   "outputs": [],
   "source": []
  },
  {
   "cell_type": "raw",
   "id": "eb7699d1",
   "metadata": {},
   "source": [
    "Ques 4: Define Machine Learning. What are the main components in Machine Learning?\n",
    "\n",
    "Machine Learning is a branch of Artifical Intelligencewhere we teach computers to learn pattern from given data instead of making rules for each and everything just learn the patterns.\n",
    "\n",
    "Main components of ML are:\n",
    "Data : The backbone od ML, Ml models gets trained on this data collected from different different sources.\n",
    "Features: Inputs/characterstics taken from the data like size,location,no of rooms in case of house prize prediction. \n",
    "Model: like which kind of model we select to train our model on the goiven data.\n",
    "Training\n",
    "Testing \n",
    "Evaluation and prediction\n"
   ]
  },
  {
   "cell_type": "code",
   "execution_count": null,
   "id": "9b17642a",
   "metadata": {},
   "outputs": [],
   "source": []
  },
  {
   "cell_type": "raw",
   "id": "d9f275ba",
   "metadata": {},
   "source": [
    "Ques 5: How does loss value help in determining whether the model is good or not?\n",
    "Loss/Error is the value that shows how wrong the model's predictions are compared to the actual answers.\n",
    "\n",
    "If smaller loss then predictions are close to correct\n",
    "if Bigger Loss then predictions are far from correct\n",
    "\n",
    "actual exam marks : 89\n",
    "Models Prediction : 85\n",
    "error: 4\n",
    "    \n",
    "    \n",
    "while training the model keep adjusting itself to reduce the loss/error  so low loss i.e model is Good\n",
    "High Loss i,e model is not good, need improvement\n",
    "\n",
    "Low loss good model\n",
    "Hogh Loss bad model"
   ]
  },
  {
   "cell_type": "code",
   "execution_count": null,
   "id": "f704ceda",
   "metadata": {},
   "outputs": [],
   "source": []
  },
  {
   "cell_type": "raw",
   "id": "4582d95e",
   "metadata": {},
   "source": [
    "Ques6 : What are continuous and categorical variables?\n",
    "    \n",
    "A continous variable is one that can take any numerical values between  a range . like height in cm's , weight in kg, \n",
    "temperature etc\n",
    "\n",
    "Example height 173 cm\n",
    "\n",
    "Categorical variable is one which represents the groups or categories.\n",
    "\n",
    "example: Gendre(Male/Female)"
   ]
  },
  {
   "cell_type": "code",
   "execution_count": null,
   "id": "612317e6",
   "metadata": {},
   "outputs": [],
   "source": []
  },
  {
   "cell_type": "raw",
   "id": "6fa5f25b",
   "metadata": {},
   "source": [
    "Ques:7 How do we handle categorical variables in Machine Learning? What are the common techniques?\n",
    "\n",
    "\n",
    "Machine Learning models usually work with numbers so we need to convert them into numerical values while preserving the information they carry.\n",
    "\n",
    "Some of the techniques are:\n",
    "1. Label encoding: here each unique category is assigned  a number like 1,2,3 etc. \n",
    "2. One Hot Encoding: Create a new numerical column for each category, and values will be binary like 0 & 1\n",
    "3. Ordinal Encoding : This encoding is almost similar to One Hot Encoding but here we define the order manually like small,medium,large etc\n",
    "4. Frequency encoding : replace categories with their frequency count  in dataset.\n",
    "    "
   ]
  },
  {
   "cell_type": "code",
   "execution_count": null,
   "id": "8cd37e6f",
   "metadata": {},
   "outputs": [],
   "source": []
  },
  {
   "cell_type": "raw",
   "id": "f452e394",
   "metadata": {},
   "source": [
    "Ques 8: What do you mean by training and testing a dataset?\n",
    "\n",
    "Training a dataset means using Historical data to teach the model patterns or relationship.\n",
    "like house prize prediction model, we first train the model based on historical data and then see how well it works.\n",
    "After the model is trained we need to check how well it performed on unseen data whether it works fine or overfit or underfit.\n"
   ]
  },
  {
   "cell_type": "code",
   "execution_count": null,
   "id": "734bb34d",
   "metadata": {},
   "outputs": [],
   "source": []
  },
  {
   "cell_type": "raw",
   "id": "a14a8178",
   "metadata": {},
   "source": [
    "Ques 9: What is sklearn.preprocessing?\n",
    "Sklearn.preprocessing is a module in scikit learn that helps us prepare our data before feeding it into the model.\n",
    "WIth  the help of sklearn we can scale our data and make them in similar degree/Scale\n",
    "\n",
    "we can convert text to numbers like Pass/Fail to 0/1\n",
    "\n"
   ]
  },
  {
   "cell_type": "code",
   "execution_count": null,
   "id": "034a06ad",
   "metadata": {},
   "outputs": [],
   "source": []
  },
  {
   "cell_type": "raw",
   "id": "45167be0",
   "metadata": {},
   "source": [
    "Ques 10: What is a Test set?\n",
    "A test set is a part of our data set which we keep aside to check how well our model works on unseen data.\n",
    "training set is used to teach the model and test set is used to take test of our model."
   ]
  },
  {
   "cell_type": "code",
   "execution_count": null,
   "id": "42e23aa4",
   "metadata": {},
   "outputs": [],
   "source": []
  },
  {
   "cell_type": "raw",
   "id": "a4cdc467",
   "metadata": {},
   "source": [
    "Ques 11: How do we split data for model fitting (training and testing) in Python?\n",
    "\n",
    "we split data using train test split , where we usually keep the ratio of 80:20, Training on 80% data and testing on 20% data.\n",
    "sklearn.model_selection  contains our train test split .\n",
    "\n",
    "\n",
    "from sklearn.model_selection import train_test_split\n",
    "X_train,X_test,y_train,y_test=train_test_split(X,y,test_size=0.2)"
   ]
  },
  {
   "cell_type": "code",
   "execution_count": null,
   "id": "2e0b2cdc",
   "metadata": {},
   "outputs": [],
   "source": []
  },
  {
   "cell_type": "raw",
   "id": "72393231",
   "metadata": {},
   "source": [
    "Ques 12: How do you approach a Machine Learning problem?\n",
    "\n",
    "So first,\n",
    "we understand the problem like what we need to predict,\n",
    "\n",
    "then collection of data from database,api etc.\n",
    "exploring the data seeing the patterns, identifying most important and not important features.\n",
    "processing the data like handeling missing values, treating outliers, encoding, scaling, train test split the data .\n",
    "\n",
    "\n",
    "choosing the model based on our data \n",
    "training the model, \n",
    "now testing the modle on our test data ,\n",
    "\n",
    "finding out the accuracy\n",
    "\n",
    "and then fine tuning the model"
   ]
  },
  {
   "cell_type": "code",
   "execution_count": null,
   "id": "5df75146",
   "metadata": {},
   "outputs": [],
   "source": []
  },
  {
   "cell_type": "raw",
   "id": "e33eb6d8",
   "metadata": {},
   "source": [
    "Ques 13:  Why do we have to perform EDA before fitting a model to the data?\n",
    "\n",
    "we perform EDA before fitting the model because it helps us understand the data its size, shape, missing values, important features,\n",
    "patterns etc\n",
    "\n",
    "EDA process makes sure that the model is clean and meaning, so that our model gets good accuracy.\n",
    "we should avoid feeding garbage datat to model because garbage in so garbage out."
   ]
  },
  {
   "cell_type": "code",
   "execution_count": null,
   "id": "b9417645",
   "metadata": {},
   "outputs": [],
   "source": []
  },
  {
   "cell_type": "raw",
   "id": "54cf80a9",
   "metadata": {},
   "source": [
    "Ques 14: What is correlation?\n",
    "\n",
    "Correlation tells us the relationship between two variables. if they are co-relative or not, if yes then how positively or \n",
    "negatively or how strongly they are related.\n",
    "\n",
    "Example : If A increases B also incareases or decreases"
   ]
  },
  {
   "cell_type": "code",
   "execution_count": null,
   "id": "32b579c5",
   "metadata": {},
   "outputs": [],
   "source": []
  },
  {
   "cell_type": "raw",
   "id": "f2a3beaf",
   "metadata": {},
   "source": [
    "Ques 15: What does negative correlation mean?\n",
    "    \n",
    "Negative correlation means when one variable increases the other variable decreases. Both the variables moves in \n",
    "opposite direction\n",
    "\n",
    "Example Prize and demand: Prize increases demand decreases"
   ]
  },
  {
   "cell_type": "code",
   "execution_count": null,
   "id": "4d05eb32",
   "metadata": {},
   "outputs": [],
   "source": []
  },
  {
   "cell_type": "raw",
   "id": "fbbf3ad3",
   "metadata": {},
   "source": [
    "Ques 16: How can you find correlation between variables in Python?\n",
    "We can find correlation between variables using corr() function or we can also use heat map "
   ]
  },
  {
   "cell_type": "code",
   "execution_count": null,
   "id": "4d23ec94",
   "metadata": {},
   "outputs": [],
   "source": []
  },
  {
   "cell_type": "raw",
   "id": "9dacc4ec",
   "metadata": {},
   "source": [
    "ques 17: What is causation? Explain difference between correlation and causation with an example.\n",
    "\n",
    "    \n",
    "Causation means one thing directly mkes other thing to happen like cancer due to consuming tombacoo    \n",
    "Correlation means when two things happens together but none of them are related like more sales of ice cream in summer and more cases of drowing in summer\n",
    "\n",
    "correlation means together it happens without any relation\n",
    "but causation means bacause of x y happens"
   ]
  },
  {
   "cell_type": "code",
   "execution_count": null,
   "id": "2dc36839",
   "metadata": {},
   "outputs": [],
   "source": []
  },
  {
   "cell_type": "raw",
   "id": "9f2dc01c",
   "metadata": {},
   "source": [
    "Ques 18: What is an Optimizer? What are different types of optimizers? Explain each with an example.\n",
    "\n",
    "Optimizer tell us model how to learn better. it changes the weights of our models to reduce the error.\n",
    "\n",
    "1. Gradient Decent: it works by moving step by step in the direction where the error reduces.\n",
    "   suppose we are on a hill i.e error and want to go down safely (minimum error) it helps us reach down with the safest possible way \n",
    "\n",
    "\n",
    "2. SGD Gradient Boosting: Instead of using the full dataset at once it updates weighs using one sample or few samples at  a time.\n",
    "    It is faster than Normal Gradient Boosting\n",
    "    \n",
    "    "
   ]
  },
  {
   "cell_type": "code",
   "execution_count": null,
   "id": "702d77f9",
   "metadata": {},
   "outputs": [],
   "source": []
  },
  {
   "cell_type": "raw",
   "id": "064fb0ab",
   "metadata": {},
   "source": [
    "Ques 19: What is sklearn.linear_model ?\n",
    "Sklearn.linear_model is a part of scikit learn library that provides different linear models for regression and classification.\n",
    "\n"
   ]
  },
  {
   "cell_type": "code",
   "execution_count": null,
   "id": "04834aa6",
   "metadata": {},
   "outputs": [],
   "source": []
  },
  {
   "cell_type": "raw",
   "id": "f795be6a",
   "metadata": {},
   "source": [
    "Ques 20: What does model.fit() do? What arguments must be given?\n",
    "model.fit() is the mostly used ML library and it is used to train the models and make them learn patterns from training dataset.\n",
    "\n",
    "arguments are :\n",
    "X i.e independent variables\n",
    "y i.e our target variables or what we want to predict.\n",
    "\n",
    "X_train => training feature\n",
    "y_train => target values\n",
    "    "
   ]
  },
  {
   "cell_type": "code",
   "execution_count": null,
   "id": "d55bfdb5",
   "metadata": {},
   "outputs": [],
   "source": []
  },
  {
   "cell_type": "raw",
   "id": "c7f13781",
   "metadata": {},
   "source": [
    "Ques 21: What does model.predict() do? What arguments must be given?\n",
    "model.predict() is  used after training the model to predict the target variable.\n",
    "y_pred=model.predict(X_test)\n",
    "\n",
    "fit() trains the model and predict() uses the model to predict the output."
   ]
  },
  {
   "cell_type": "code",
   "execution_count": null,
   "id": "1668db21",
   "metadata": {},
   "outputs": [],
   "source": []
  },
  {
   "cell_type": "raw",
   "id": "42c83756",
   "metadata": {},
   "source": [
    "Ques 22 : What are continuous and categorical variables?\n",
    "    \n",
    "A continous variable is one that can take any numerical values between  a range . like height in cm's , weight in kg, \n",
    "temperature etc\n",
    "\n",
    "Example height 173 cm\n",
    "\n",
    "Categorical variable is one which represents the groups or categories.\n",
    "\n",
    "example: Gendre(Male/Female)"
   ]
  },
  {
   "cell_type": "code",
   "execution_count": null,
   "id": "a2d73f44",
   "metadata": {},
   "outputs": [],
   "source": []
  },
  {
   "cell_type": "raw",
   "id": "c069d4e6",
   "metadata": {},
   "source": [
    "Ques 23: What is feature scaling? How does it help in Machine Learning?\n",
    "Feature scaling means bringing all the numerical features to similar scale so that no variable dominates other and saved model from giving BIASED result.\n",
    "\n",
    "There are some models in ML which works better when data is scaled and it improves the accuracy.\n",
    "\n",
    "it is of two types\n",
    "min max scaling\n",
    "Z score scaling or standardization scaling "
   ]
  },
  {
   "cell_type": "code",
   "execution_count": null,
   "id": "82acce5a",
   "metadata": {},
   "outputs": [],
   "source": []
  },
  {
   "cell_type": "code",
   "execution_count": 1,
   "id": "5c392f96",
   "metadata": {},
   "outputs": [
    {
     "data": {
      "text/plain": [
       "array([[-1.41421356, -1.53448726],\n",
       "       [-0.70710678, -0.68199434],\n",
       "       [ 0.        ,  0.17049858],\n",
       "       [ 0.70710678,  0.85249292],\n",
       "       [ 1.41421356,  1.19349009]])"
      ]
     },
     "execution_count": 1,
     "metadata": {},
     "output_type": "execute_result"
    }
   ],
   "source": [
    "# Ques 24: How do we perform scaling in Python?\n",
    "    \n",
    "# we import scaling method using scikitlearn library\n",
    "\n",
    "from sklearn.preprocessing import StandardScaler\n",
    "import pandas as pd\n",
    "\n",
    "data=pd.DataFrame({'AGE': [20,25,30,35,40],\n",
    "                  \"Salary\":[20000,45000,70000,90000,100000]})\n",
    "\n",
    "scaler=StandardScaler()\n",
    "scaler.fit_transform(data)\n"
   ]
  },
  {
   "cell_type": "code",
   "execution_count": null,
   "id": "1456caed",
   "metadata": {},
   "outputs": [],
   "source": []
  },
  {
   "cell_type": "raw",
   "id": "e02c23ca",
   "metadata": {},
   "source": [
    "Ques 25: What is sklearn.preprocessing?\n",
    "\n",
    "Ques 9: What is sklearn.preprocessing?\n",
    "Sklearn.preprocessing is a module in scikit learn that helps us prepare our data before feeding it into the model.\n",
    "WIth  the help of sklearn we can scale our data and make them in similar degree/Scale\n",
    "\n",
    "we can convert text to numbers like Pass/Fail to 0/1\n",
    "\n"
   ]
  },
  {
   "cell_type": "code",
   "execution_count": null,
   "id": "4d4e1d48",
   "metadata": {},
   "outputs": [],
   "source": []
  },
  {
   "cell_type": "raw",
   "id": "529637f8",
   "metadata": {},
   "source": [
    "Ques 26: How do we split data for model fitting (training and testing) in Python?\n",
    "we split data using train test split , where we usually keep the ratio of 80:20, Training on 80% data and testing on 20% data.\n",
    "sklearn.model_selection  contains our train test split .\n",
    "\n",
    "\n",
    "from sklearn.model_selection import train_test_split\n",
    "X_train,X_test,y_train,y_test=train_test_split(X,y,test_size=0.2)"
   ]
  },
  {
   "cell_type": "code",
   "execution_count": null,
   "id": "dfdc6c6d",
   "metadata": {},
   "outputs": [],
   "source": []
  },
  {
   "cell_type": "raw",
   "id": "45b0884d",
   "metadata": {},
   "source": [
    "Ques 27 : Explain data encoding?\n",
    "\n",
    "Machine Learning models usually work with numbers so we need to convert them into numerical values while preserving the information they carry.\n",
    "\n",
    "Some of the techniques are:\n",
    "1. Label encoding: here each unique category is assigned  a number like 1,2,3 etc. \n",
    "2. One Hot Encoding: Create a new numerical column for each category, and values will be binary like 0 & 1\n",
    "3. Ordinal Encoding : This encoding is almost similar to One Hot Encoding but here we define the order manually like small,medium,large etc\n",
    "4. Frequency encoding : replace categories with their frequency count  in dataset."
   ]
  },
  {
   "cell_type": "code",
   "execution_count": null,
   "id": "888e8441",
   "metadata": {},
   "outputs": [],
   "source": []
  },
  {
   "cell_type": "code",
   "execution_count": null,
   "id": "a7e54bc4",
   "metadata": {},
   "outputs": [],
   "source": []
  },
  {
   "cell_type": "code",
   "execution_count": null,
   "id": "ad4055c3",
   "metadata": {},
   "outputs": [],
   "source": []
  },
  {
   "cell_type": "code",
   "execution_count": null,
   "id": "eaa95541",
   "metadata": {},
   "outputs": [],
   "source": []
  },
  {
   "cell_type": "code",
   "execution_count": null,
   "id": "7ca667c2",
   "metadata": {},
   "outputs": [],
   "source": []
  },
  {
   "cell_type": "code",
   "execution_count": null,
   "id": "1e62a2e8",
   "metadata": {},
   "outputs": [],
   "source": []
  },
  {
   "cell_type": "code",
   "execution_count": null,
   "id": "dd053fc4",
   "metadata": {},
   "outputs": [],
   "source": []
  },
  {
   "cell_type": "code",
   "execution_count": null,
   "id": "20c9a5a1",
   "metadata": {},
   "outputs": [],
   "source": []
  },
  {
   "cell_type": "code",
   "execution_count": null,
   "id": "e1f23c98",
   "metadata": {},
   "outputs": [],
   "source": []
  },
  {
   "cell_type": "code",
   "execution_count": null,
   "id": "5ec27335",
   "metadata": {},
   "outputs": [],
   "source": []
  },
  {
   "cell_type": "code",
   "execution_count": null,
   "id": "8b429ced",
   "metadata": {},
   "outputs": [],
   "source": []
  },
  {
   "cell_type": "code",
   "execution_count": null,
   "id": "fdf44f69",
   "metadata": {},
   "outputs": [],
   "source": []
  },
  {
   "cell_type": "code",
   "execution_count": null,
   "id": "03f17761",
   "metadata": {},
   "outputs": [],
   "source": []
  },
  {
   "cell_type": "code",
   "execution_count": null,
   "id": "5f1cbb25",
   "metadata": {},
   "outputs": [],
   "source": []
  },
  {
   "cell_type": "code",
   "execution_count": null,
   "id": "81360761",
   "metadata": {},
   "outputs": [],
   "source": []
  },
  {
   "cell_type": "code",
   "execution_count": null,
   "id": "b4db90cb",
   "metadata": {},
   "outputs": [],
   "source": []
  },
  {
   "cell_type": "code",
   "execution_count": null,
   "id": "4fb2668e",
   "metadata": {},
   "outputs": [],
   "source": []
  },
  {
   "cell_type": "code",
   "execution_count": null,
   "id": "360104e4",
   "metadata": {},
   "outputs": [],
   "source": []
  },
  {
   "cell_type": "code",
   "execution_count": null,
   "id": "b19baea6",
   "metadata": {},
   "outputs": [],
   "source": []
  },
  {
   "cell_type": "code",
   "execution_count": null,
   "id": "a57eefcc",
   "metadata": {},
   "outputs": [],
   "source": []
  },
  {
   "cell_type": "code",
   "execution_count": null,
   "id": "19e054ad",
   "metadata": {},
   "outputs": [],
   "source": []
  },
  {
   "cell_type": "code",
   "execution_count": null,
   "id": "76da9b4f",
   "metadata": {},
   "outputs": [],
   "source": []
  },
  {
   "cell_type": "code",
   "execution_count": null,
   "id": "427f8ad3",
   "metadata": {},
   "outputs": [],
   "source": []
  },
  {
   "cell_type": "code",
   "execution_count": null,
   "id": "dc9e0204",
   "metadata": {},
   "outputs": [],
   "source": []
  },
  {
   "cell_type": "code",
   "execution_count": null,
   "id": "f40742c9",
   "metadata": {},
   "outputs": [],
   "source": []
  },
  {
   "cell_type": "code",
   "execution_count": null,
   "id": "6b449b3f",
   "metadata": {},
   "outputs": [],
   "source": []
  },
  {
   "cell_type": "code",
   "execution_count": null,
   "id": "8ec20086",
   "metadata": {},
   "outputs": [],
   "source": []
  },
  {
   "cell_type": "code",
   "execution_count": null,
   "id": "5ed8df4b",
   "metadata": {},
   "outputs": [],
   "source": []
  },
  {
   "cell_type": "code",
   "execution_count": null,
   "id": "418caa43",
   "metadata": {},
   "outputs": [],
   "source": []
  },
  {
   "cell_type": "code",
   "execution_count": null,
   "id": "ef307f86",
   "metadata": {},
   "outputs": [],
   "source": []
  },
  {
   "cell_type": "code",
   "execution_count": null,
   "id": "1974d8f9",
   "metadata": {},
   "outputs": [],
   "source": []
  }
 ],
 "metadata": {
  "kernelspec": {
   "display_name": "Python 3 (ipykernel)",
   "language": "python",
   "name": "python3"
  },
  "language_info": {
   "codemirror_mode": {
    "name": "ipython",
    "version": 3
   },
   "file_extension": ".py",
   "mimetype": "text/x-python",
   "name": "python",
   "nbconvert_exporter": "python",
   "pygments_lexer": "ipython3",
   "version": "3.9.12"
  }
 },
 "nbformat": 4,
 "nbformat_minor": 5
}
